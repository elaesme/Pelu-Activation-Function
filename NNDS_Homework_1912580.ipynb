{
  "nbformat": 4,
  "nbformat_minor": 0,
  "metadata": {
    "colab": {
      "name": "NNDS_Homework_1912580",
      "provenance": [],
      "collapsed_sections": [
        "wAEgygyPfO7b",
        "Rl9dZ3HambSz"
      ]
    },
    "kernelspec": {
      "name": "python3",
      "display_name": "Python 3"
    }
  },
  "cells": [
    {
      "cell_type": "markdown",
      "metadata": {
        "id": "sdnnRxTNdyW1"
      },
      "source": [
        "# Neural Networks for Data Science Applications\n",
        "## Mid-term Homework: Implementing a custom activation function\n",
        "\n",
        "**Name**: *Sabriye Ela Esme*\n",
        "\n",
        "**Matricola**: *1912580*\n",
        "\n",
        "Send the completed notebook before 26/11/2020 back to **simone.scardapane@uniroma1.it** with the object \"[NNDS] Homework_1_\\<id\\>\"."
      ]
    },
    {
      "cell_type": "code",
      "metadata": {
        "id": "PEr8qV6-nMuL"
      },
      "source": [
        "import tensorflow as tf"
      ],
      "execution_count": 1,
      "outputs": []
    },
    {
      "cell_type": "markdown",
      "metadata": {
        "id": "wAEgygyPfO7b"
      },
      "source": [
        "### Introduction\n",
        "\n",
        "The **exponential linear unit** (ELU) is an activation function defined as [1]:\n",
        "\n",
        "$$\n",
        "\\phi(x) =\n",
        "\\Biggl\\{ \n",
        "\\begin{align} \n",
        "x & \\;\\; \\text{ if } x \\ge 0 \\\\\n",
        "\\alpha \\left(\\exp\\left(x\\right)- 1\\right) & \\;\\; \\text{ otherwise } \n",
        "\\end{align}\n",
        "\\Bigr.\n",
        "\\,,\n",
        "$$\n",
        "\n",
        "where $\\alpha$ is a hyper-parameter. The function is implemented in `tf.keras.layers.ELU` (see the [documentation](https://www.tensorflow.org/api_docs/python/tf/keras/layers/ELU)).\n",
        "\n",
        "The **parametric ELU** (PELU) extends the ELU activation function as [2]:\n",
        "\n",
        "$$\n",
        "\\phi(x) =\n",
        "\\Biggl\\{ \n",
        "\\begin{align} \n",
        "\\frac{\\alpha}{\\beta}x & \\;\\; \\text{ if } x \\ge 0 \\\\\n",
        "\\alpha \\left(\\exp\\Bigl(\\frac{x}{\\beta}\\Bigr)- 1\\right) & \\;\\; \\text{ otherwise } \n",
        "\\end{align}\n",
        "\\Bigr.\n",
        "\\,,\n",
        "$$\n",
        "\n",
        "where the major difference is that $\\alpha,\\beta > 0$ are *trainable* parameters, i.e., a pair of $(\\alpha, \\beta)$ values is trained for each unit in the network."
      ]
    },
    {
      "cell_type": "markdown",
      "metadata": {
        "id": "5u4aF6Z4maHd"
      },
      "source": [
        "### Exercise 1: implement the PELU\n",
        "\n",
        "In TensorFlow, it is possible to implement new layers by subclassing `tf.keras.layers.Layer`:\n",
        "\n",
        "+ [Making new Layers and Models via subclassing](https://www.tensorflow.org/guide/keras/custom_layers_and_models)\n",
        "+ [Custom layers](https://www.tensorflow.org/tutorials/customization/custom_layers)\n",
        "+ [tf.keras.layers.Layer (documentation)](https://www.tensorflow.org/api_docs/python/tf/keras/layers/Layer)\n",
        "\n",
        "**Exercise 1**: *After carefully reading the guides*, complete the following implementation of the PELU activation function."
      ]
    },
    {
      "cell_type": "code",
      "metadata": {
        "id": "DfCpFg2xdug_"
      },
      "source": [
        "#From the constraints(callable) page you provided us as a hint, I found out the codes for the different constraints and I realized there are some options\n",
        "#but there is no option for 'positive', So I took the NonNeg class, and I just changed the greater_equal function to greater and now I have my positive constraint\n",
        "\n",
        "class PELU(tf.keras.layers.Layer):\n",
        "\n",
        "    def __init__(self, units=32):\n",
        "        super(PELU, self).__init__()\n",
        "        self.units = units\n",
        "\n",
        "    #BUILDED NON NEGATIVE TRAINABLE CONSTRAINTS\n",
        "    def build(self, input_shape):\n",
        "        # TODO: write the code here\n",
        "        self.alpha = self.add_weight(shape=(self.units,),initializer=\"ones\",trainable=True, constraint=\"non_neg\")\n",
        "        self.beta = self.add_weight(shape=(self.units,), initializer=\"ones\", trainable=True, constraint=\"non_neg\")\n",
        "\n",
        "    #USED +1e-6 AS SUGGESTED TO AVOID THE NaNS DURING TRAINING\n",
        "    def call(self, inputs):\n",
        "        newinp=tf.where(inputs>=0, (self.alpha/self.beta+1e-6)*inputs, self.alpha*(tf.exp(inputs/self.beta+1e-6)-1))\n",
        "        return newinp\n",
        "\n",
        "    def get_config(self):\n",
        "        config = super(PELU, self).get_config()\n",
        "        config.update({\"units\": self.units})\n",
        "        return config\n",
        "\n",
        "    \n",
        "\n",
        "    \n",
        "\n"
      ],
      "execution_count": 2,
      "outputs": []
    },
    {
      "cell_type": "markdown",
      "metadata": {
        "id": "o8MEZxqbn8vs"
      },
      "source": [
        "**Hints for a correct implementation**:\n",
        "\n",
        "1. The layer (probably) requires two sets of trainable variables, whose shape depends on the number of units.\n",
        "2. From the definition of the PELU, $\\alpha, \\beta$ are required to be positive in order to ensure differentiability. The simplest way to handle this is to use a [constraint callable](https://www.tensorflow.org/api_docs/python/tf/keras/constraints) when creating the weight (see also the [documentation](https://www.tensorflow.org/api_docs/python/tf/keras/layers/Layer) for `add_weight`)."
      ]
    },
    {
      "cell_type": "markdown",
      "metadata": {
        "id": "-QY0TfCxo9yd"
      },
      "source": [
        "### Exercise 2: some preliminary tests\n",
        "\n",
        "To evaluate your implementation, let us start by creating a single PELU function:"
      ]
    },
    {
      "cell_type": "code",
      "metadata": {
        "id": "DFNFXarBe8DV"
      },
      "source": [
        "pelu = PELU(units=1)"
      ],
      "execution_count": 3,
      "outputs": []
    },
    {
      "cell_type": "markdown",
      "metadata": {
        "id": "RWY76mEepSgj"
      },
      "source": [
        "**Exercise 2.1**: plot the function using the skeleton code below."
      ]
    },
    {
      "cell_type": "code",
      "metadata": {
        "id": "jdK0CyscfDtC",
        "colab": {
          "base_uri": "https://localhost:8080/",
          "height": 282
        },
        "outputId": "1443dbea-b1b6-4ba1-9168-c846b1344bff"
      },
      "source": [
        "import matplotlib.pyplot as plt\n",
        "import numpy as np\n",
        "x_range = tf.dtypes.cast(tf.linspace(-5, 5, 200), tf.float32) # An equispaced grid of 200 points in [-5, +5]\n",
        "y_range = tf.dtypes.cast(pelu(x_range), tf.float32)           #THE OUTPUTS OF PELU\n",
        "\n",
        "plt.plot(np.asarray(x_range), np.asarray(y_range))"
      ],
      "execution_count": 4,
      "outputs": [
        {
          "output_type": "execute_result",
          "data": {
            "text/plain": [
              "[<matplotlib.lines.Line2D at 0x7fc3515bd8d0>]"
            ]
          },
          "metadata": {
            "tags": []
          },
          "execution_count": 4
        },
        {
          "output_type": "display_data",
          "data": {
            "image/png": "[encoded data removed]",
            "text/plain": [
              "<Figure size 432x288 with 1 Axes>"
            ]
          },
          "metadata": {
            "tags": [],
            "needs_background": "light"
          }
        }
      ]
    },
    {
      "cell_type": "markdown",
      "metadata": {
        "id": "LyGIlR_aqayc"
      },
      "source": [
        "The derivative of a PELU function with respect to the $\\alpha$ parameter is given by [2]:\n",
        "\n",
        "$$\n",
        "\\frac{d\\phi(x)}{d\\alpha} =\n",
        "\\Biggl\\{ \n",
        "\\begin{align} \n",
        "\\frac{x}{\\beta} & \\;\\; \\text{ if } x \\ge 0 \\\\\n",
        " \\left(\\exp\\Bigl(\\frac{x}{\\beta}\\Bigr)- 1\\right) & \\;\\; \\text{ otherwise } \n",
        "\\end{align}\n",
        "\\Bigr.\n",
        "\\,,\n",
        "$$"
      ]
    },
    {
      "cell_type": "markdown",
      "metadata": {
        "id": "GnvkoRVAqwg1"
      },
      "source": [
        "**Exercise 2.2**: using a `tf.GradientTape` object, compute the derivative above using automatic differentiation, and check its correctness up to a certain numerical precision.\n",
        "\n",
        "**Hints for a correct implementation**:\n",
        "\n",
        "1. `tf.GradientTape` allows to compute the derivative *at a single point x*. If you prefer to avoid a loop over all possible points, consider using the `jacobian` function to obtain them in a single pass ([Advanced Automatic Differentiation](https://www.tensorflow.org/guide/advanced_autodiff)).\n",
        "2. Given two tensors x and y, a simple way to compute elementwise similarity up to a certain precision (e.g., $10^{-4}$), is given by `tf.reduce_all(tf.abs(x - y) < 1e-4)`.\n",
        "\n",
        "**Exercise 2.3 (optional)**: try the same for the $\\beta$ parameter (you can check the analytical formula for the gradient in the original paper [2]). **Careful**: the equation in the original paper has a missing $h$ (thanks to Davide Aureli and Federico Siciliano for spotting this). See [the correct derivation](https://www.wolframalpha.com/input/?i=d%28a*%28exp%28h%2Fb%29-1%29%29%2Fdb) on Wolfram Alpha."
      ]
    },
    {
      "cell_type": "code",
      "metadata": {
        "id": "HZM6jp0UDHyu"
      },
      "source": [
        "#MANUAL GRADIENT \n",
        "#y=pelu(x_range)\n",
        "y_grad=tf.where(x_range>=0, x_range/(pelu.beta+1e-6), tf.exp(x_range/pelu.beta+1e-6)-1)"
      ],
      "execution_count": 5,
      "outputs": []
    },
    {
      "cell_type": "code",
      "metadata": {
        "id": "9AJsusZj_EVv"
      },
      "source": [
        "#TF GRADIENT \n",
        "with tf.GradientTape() as tape:\n",
        "  yy=pelu(x_range)\n",
        "\n",
        "dy_dx = tf.reshape(tape.jacobian(yy, pelu.alpha), -1)"
      ],
      "execution_count": 6,
      "outputs": []
    },
    {
      "cell_type": "code",
      "metadata": {
        "colab": {
          "base_uri": "https://localhost:8080/"
        },
        "id": "pm5vfOmEC60q",
        "outputId": "54dbe862-7c98-4bcd-c9f6-30190899d752"
      },
      "source": [
        "tf.reduce_all(tf.abs(y_grad - dy_dx) < 1e-4)"
      ],
      "execution_count": 7,
      "outputs": [
        {
          "output_type": "execute_result",
          "data": {
            "text/plain": [
              "<tf.Tensor: shape=(), dtype=bool, numpy=True>"
            ]
          },
          "metadata": {
            "tags": []
          },
          "execution_count": 7
        }
      ]
    },
    {
      "cell_type": "code",
      "metadata": {
        "id": "IlT6wQQzHEuw"
      },
      "source": [
        "#FOR BETA\n",
        "y_grad1=tf.where(x_range>=0, (-1*pelu.alpha*x_range)/(pelu.beta+1e-6)**2, (tf.exp(x_range/pelu.beta+1e-6)*-1*pelu.alpha*x_range)/(pelu.beta+1e-6)**2)"
      ],
      "execution_count": 8,
      "outputs": []
    },
    {
      "cell_type": "code",
      "metadata": {
        "id": "zMpJHcd8FB0V"
      },
      "source": [
        "with tf.GradientTape() as tape:\n",
        "  yy=pelu(x_range)\n",
        "\n",
        "dy_dx1 = tf.reshape(tape.jacobian(yy, pelu.beta), -1)"
      ],
      "execution_count": 9,
      "outputs": []
    },
    {
      "cell_type": "code",
      "metadata": {
        "colab": {
          "base_uri": "https://localhost:8080/"
        },
        "id": "3DOviD0hFMaD",
        "outputId": "f8c34c2f-17f8-4bbb-8835-36ba2480e807"
      },
      "source": [
        "tf.reduce_all(tf.abs(y_grad1 - dy_dx1) < 1e-4)"
      ],
      "execution_count": 10,
      "outputs": [
        {
          "output_type": "execute_result",
          "data": {
            "text/plain": [
              "<tf.Tensor: shape=(), dtype=bool, numpy=True>"
            ]
          },
          "metadata": {
            "tags": []
          },
          "execution_count": 10
        }
      ]
    },
    {
      "cell_type": "markdown",
      "metadata": {
        "id": "7yjnVl6Ysm7F"
      },
      "source": [
        "### Exercise 3: PELU in practice\n",
        "\n",
        "Consider a simple model built with the PELU activation function, as below."
      ]
    },
    {
      "cell_type": "code",
      "metadata": {
        "id": "HF5S67DDs7xr"
      },
      "source": [
        "#ADDED A FLATTEN LAYER \n",
        "model = tf.keras.Sequential(layers=[tf.keras.layers.Flatten(input_shape=(28, 28, 1)),\n",
        "      tf.keras.layers.Dense(50),\n",
        "      PELU(50),\n",
        "      tf.keras.layers.Dense(10, activation='softmax')\n",
        "])"
      ],
      "execution_count": 11,
      "outputs": []
    },
    {
      "cell_type": "markdown",
      "metadata": {
        "id": "BvVbeTDwtdbu"
      },
      "source": [
        "**Exercise 3**: load any classification dataset, and train the model above (using either a custom training loop or `model.fit(...)`). Additionally, compare with a standard ReLU activation."
      ]
    },
    {
      "cell_type": "code",
      "metadata": {
        "id": "DHubpcbwIPp2"
      },
      "source": [
        "#IMPORTED THE DATASET FROM https://www.tensorflow.org/datasets \n",
        "import tensorflow_datasets as tfds\n",
        "(dtrain, dtest), dinfo = tfds.load('mnist',split=['train', 'test'],shuffle_files=True,as_supervised=True,with_info=True,)\n",
        "def normalize_img(image, label):\n",
        "  \"\"\"Normalizes images: `uint8` -> `float32`.\"\"\"\n",
        "  return tf.cast(image, tf.float32) / 255., label\n",
        "\n",
        "dtrain = dtrain.map(\n",
        "    normalize_img, num_parallel_calls=tf.data.experimental.AUTOTUNE)\n",
        "dtrain = dtrain.cache()\n",
        "dtrain = dtrain.shuffle(dinfo.splits['train'].num_examples)\n",
        "dtrain = dtrain.batch(128)\n",
        "dtrain = dtrain.prefetch(tf.data.experimental.AUTOTUNE)\n",
        "dtest = dtest.map(normalize_img, num_parallel_calls=tf.data.experimental.AUTOTUNE)\n",
        "dtest = dtest.batch(128)\n",
        "dtest = dtest.cache()\n",
        "dtest = dtest.prefetch(tf.data.experimental.AUTOTUNE)\n"
      ],
      "execution_count": 12,
      "outputs": []
    },
    {
      "cell_type": "code",
      "metadata": {
        "id": "dpHI1HfbzAQF",
        "colab": {
          "base_uri": "https://localhost:8080/"
        },
        "outputId": "455cafe2-04ce-467e-cf47-089216d849cf"
      },
      "source": [
        "model.compile(loss='sparse_categorical_crossentropy', optimizer=tf.keras.optimizers.Adam(0.001), metrics=['accuracy'])\n",
        "model.fit(dtrain, epochs=50,validation_data=dtest) # TODO: Your code here"
      ],
      "execution_count": 13,
      "outputs": [
        {
          "output_type": "stream",
          "text": [
            "Epoch 1/50\n",
            "469/469 [==============================] - 3s 6ms/step - loss: 0.4227 - accuracy: 0.8803 - val_loss: 0.2542 - val_accuracy: 0.9267\n",
            "Epoch 2/50\n",
            "469/469 [==============================] - 2s 3ms/step - loss: 0.2220 - accuracy: 0.9374 - val_loss: 0.1885 - val_accuracy: 0.9441\n",
            "Epoch 3/50\n",
            "469/469 [==============================] - 1s 3ms/step - loss: 0.1623 - accuracy: 0.9523 - val_loss: 0.1472 - val_accuracy: 0.9560\n",
            "Epoch 4/50\n",
            "469/469 [==============================] - 1s 3ms/step - loss: 0.1271 - accuracy: 0.9625 - val_loss: 0.1228 - val_accuracy: 0.9629\n",
            "Epoch 5/50\n",
            "469/469 [==============================] - 1s 3ms/step - loss: 0.1049 - accuracy: 0.9686 - val_loss: 0.1119 - val_accuracy: 0.9648\n",
            "Epoch 6/50\n",
            "469/469 [==============================] - 1s 3ms/step - loss: 0.0875 - accuracy: 0.9738 - val_loss: 0.1072 - val_accuracy: 0.9681\n",
            "Epoch 7/50\n",
            "469/469 [==============================] - 1s 3ms/step - loss: 0.0760 - accuracy: 0.9769 - val_loss: 0.1082 - val_accuracy: 0.9660\n",
            "Epoch 8/50\n",
            "469/469 [==============================] - 1s 3ms/step - loss: 0.0655 - accuracy: 0.9799 - val_loss: 0.0958 - val_accuracy: 0.9702\n",
            "Epoch 9/50\n",
            "469/469 [==============================] - 1s 3ms/step - loss: 0.0563 - accuracy: 0.9830 - val_loss: 0.0961 - val_accuracy: 0.9712\n",
            "Epoch 10/50\n",
            "469/469 [==============================] - 1s 3ms/step - loss: 0.0502 - accuracy: 0.9846 - val_loss: 0.1019 - val_accuracy: 0.9710\n",
            "Epoch 11/50\n",
            "469/469 [==============================] - 1s 3ms/step - loss: 0.0438 - accuracy: 0.9862 - val_loss: 0.0983 - val_accuracy: 0.9712\n",
            "Epoch 12/50\n",
            "469/469 [==============================] - 1s 3ms/step - loss: 0.0390 - accuracy: 0.9881 - val_loss: 0.0945 - val_accuracy: 0.9714\n",
            "Epoch 13/50\n",
            "469/469 [==============================] - 1s 3ms/step - loss: 0.0347 - accuracy: 0.9888 - val_loss: 0.1005 - val_accuracy: 0.9734\n",
            "Epoch 14/50\n",
            "469/469 [==============================] - 1s 3ms/step - loss: 0.0306 - accuracy: 0.9903 - val_loss: 0.1061 - val_accuracy: 0.9717\n",
            "Epoch 15/50\n",
            "469/469 [==============================] - 1s 3ms/step - loss: 0.0284 - accuracy: 0.9910 - val_loss: 0.1037 - val_accuracy: 0.9718\n",
            "Epoch 16/50\n",
            "469/469 [==============================] - 1s 3ms/step - loss: 0.0238 - accuracy: 0.9926 - val_loss: 0.1090 - val_accuracy: 0.9724\n",
            "Epoch 17/50\n",
            "469/469 [==============================] - 2s 3ms/step - loss: 0.0217 - accuracy: 0.9932 - val_loss: 0.1073 - val_accuracy: 0.9735\n",
            "Epoch 18/50\n",
            "469/469 [==============================] - 2s 3ms/step - loss: 0.0183 - accuracy: 0.9946 - val_loss: 0.1209 - val_accuracy: 0.9715\n",
            "Epoch 19/50\n",
            "469/469 [==============================] - 2s 3ms/step - loss: 0.0173 - accuracy: 0.9946 - val_loss: 0.1244 - val_accuracy: 0.9711\n",
            "Epoch 20/50\n",
            "469/469 [==============================] - 2s 3ms/step - loss: 0.0143 - accuracy: 0.9956 - val_loss: 0.1350 - val_accuracy: 0.9716\n",
            "Epoch 21/50\n",
            "469/469 [==============================] - 2s 3ms/step - loss: 0.0138 - accuracy: 0.9958 - val_loss: 0.1346 - val_accuracy: 0.9706\n",
            "Epoch 22/50\n",
            "469/469 [==============================] - 2s 3ms/step - loss: 0.0127 - accuracy: 0.9959 - val_loss: 0.1285 - val_accuracy: 0.9738\n",
            "Epoch 23/50\n",
            "469/469 [==============================] - 2s 3ms/step - loss: 0.0127 - accuracy: 0.9959 - val_loss: 0.1501 - val_accuracy: 0.9711\n",
            "Epoch 24/50\n",
            "469/469 [==============================] - 2s 3ms/step - loss: 0.0113 - accuracy: 0.9964 - val_loss: 0.1520 - val_accuracy: 0.9709\n",
            "Epoch 25/50\n",
            "469/469 [==============================] - 2s 3ms/step - loss: 0.0094 - accuracy: 0.9970 - val_loss: 0.1466 - val_accuracy: 0.9712\n",
            "Epoch 26/50\n",
            "469/469 [==============================] - 2s 3ms/step - loss: 0.0106 - accuracy: 0.9964 - val_loss: 0.1670 - val_accuracy: 0.9696\n",
            "Epoch 27/50\n",
            "469/469 [==============================] - 2s 4ms/step - loss: 0.0077 - accuracy: 0.9974 - val_loss: 0.1633 - val_accuracy: 0.9724\n",
            "Epoch 28/50\n",
            "469/469 [==============================] - 2s 4ms/step - loss: 0.0063 - accuracy: 0.9981 - val_loss: 0.1635 - val_accuracy: 0.9716\n",
            "Epoch 29/50\n",
            "469/469 [==============================] - 2s 4ms/step - loss: 0.0091 - accuracy: 0.9971 - val_loss: 0.1742 - val_accuracy: 0.9713\n",
            "Epoch 30/50\n",
            "469/469 [==============================] - 2s 3ms/step - loss: 0.0102 - accuracy: 0.9963 - val_loss: 0.1690 - val_accuracy: 0.9716\n",
            "Epoch 31/50\n",
            "469/469 [==============================] - 2s 3ms/step - loss: 0.0069 - accuracy: 0.9977 - val_loss: 0.1773 - val_accuracy: 0.9710\n",
            "Epoch 32/50\n",
            "469/469 [==============================] - 1s 3ms/step - loss: 0.0045 - accuracy: 0.9987 - val_loss: 0.1788 - val_accuracy: 0.9703\n",
            "Epoch 33/50\n",
            "469/469 [==============================] - 2s 3ms/step - loss: 0.0082 - accuracy: 0.9969 - val_loss: 0.1826 - val_accuracy: 0.9710\n",
            "Epoch 34/50\n",
            "469/469 [==============================] - 1s 3ms/step - loss: 0.0078 - accuracy: 0.9973 - val_loss: 0.1709 - val_accuracy: 0.9737\n",
            "Epoch 35/50\n",
            "469/469 [==============================] - 2s 3ms/step - loss: 0.0069 - accuracy: 0.9978 - val_loss: 0.1814 - val_accuracy: 0.9716\n",
            "Epoch 36/50\n",
            "469/469 [==============================] - 2s 3ms/step - loss: 0.0078 - accuracy: 0.9973 - val_loss: 0.1951 - val_accuracy: 0.9699\n",
            "Epoch 37/50\n",
            "469/469 [==============================] - 2s 3ms/step - loss: 0.0057 - accuracy: 0.9982 - val_loss: 0.1860 - val_accuracy: 0.9721\n",
            "Epoch 38/50\n",
            "469/469 [==============================] - 2s 3ms/step - loss: 0.0034 - accuracy: 0.9990 - val_loss: 0.1813 - val_accuracy: 0.9708\n",
            "Epoch 39/50\n",
            "469/469 [==============================] - 2s 3ms/step - loss: 0.0049 - accuracy: 0.9984 - val_loss: 0.2200 - val_accuracy: 0.9688\n",
            "Epoch 40/50\n",
            "469/469 [==============================] - 2s 3ms/step - loss: 0.0085 - accuracy: 0.9972 - val_loss: 0.1883 - val_accuracy: 0.9724\n",
            "Epoch 41/50\n",
            "469/469 [==============================] - 1s 3ms/step - loss: 0.0049 - accuracy: 0.9985 - val_loss: 0.2005 - val_accuracy: 0.9708\n",
            "Epoch 42/50\n",
            "469/469 [==============================] - 1s 3ms/step - loss: 0.0052 - accuracy: 0.9983 - val_loss: 0.1924 - val_accuracy: 0.9711\n",
            "Epoch 43/50\n",
            "469/469 [==============================] - 1s 3ms/step - loss: 0.0030 - accuracy: 0.9991 - val_loss: 0.1848 - val_accuracy: 0.9721\n",
            "Epoch 44/50\n",
            "469/469 [==============================] - 1s 3ms/step - loss: 0.0061 - accuracy: 0.9980 - val_loss: 0.2080 - val_accuracy: 0.9723\n",
            "Epoch 45/50\n",
            "469/469 [==============================] - 1s 3ms/step - loss: 0.0048 - accuracy: 0.9983 - val_loss: 0.2006 - val_accuracy: 0.9725\n",
            "Epoch 46/50\n",
            "469/469 [==============================] - 1s 3ms/step - loss: 0.0086 - accuracy: 0.9972 - val_loss: 0.2066 - val_accuracy: 0.9719\n",
            "Epoch 47/50\n",
            "469/469 [==============================] - 1s 3ms/step - loss: 0.0038 - accuracy: 0.9987 - val_loss: 0.2088 - val_accuracy: 0.9715\n",
            "Epoch 48/50\n",
            "469/469 [==============================] - 1s 3ms/step - loss: 0.0043 - accuracy: 0.9985 - val_loss: 0.2021 - val_accuracy: 0.9712\n",
            "Epoch 49/50\n",
            "469/469 [==============================] - 2s 3ms/step - loss: 0.0034 - accuracy: 0.9988 - val_loss: 0.2072 - val_accuracy: 0.9721\n",
            "Epoch 50/50\n",
            "469/469 [==============================] - 1s 3ms/step - loss: 0.0044 - accuracy: 0.9985 - val_loss: 0.2139 - val_accuracy: 0.9714\n"
          ],
          "name": "stdout"
        },
        {
          "output_type": "execute_result",
          "data": {
            "text/plain": [
              "<tensorflow.python.keras.callbacks.History at 0x7fc38b966908>"
            ]
          },
          "metadata": {
            "tags": []
          },
          "execution_count": 13
        }
      ]
    },
    {
      "cell_type": "code",
      "metadata": {
        "id": "izpZbEfiduJg"
      },
      "source": [
        "## WITH RELU ACTIVATION \n",
        "\n",
        "#ADDED A FLATTEN LAYER \n",
        "modelR = tf.keras.Sequential(layers=[tf.keras.layers.Flatten(input_shape=(28, 28, 1)),\n",
        "      tf.keras.layers.Dense(50),\n",
        "      tf.keras.layers.ReLU(),\n",
        "      tf.keras.layers.Dense(10, activation='softmax')\n",
        "])"
      ],
      "execution_count": 14,
      "outputs": []
    },
    {
      "cell_type": "code",
      "metadata": {
        "colab": {
          "base_uri": "https://localhost:8080/"
        },
        "id": "Xi1ud1uDeCTe",
        "outputId": "2b226d42-9ba4-436d-e39e-f6492a186a7c"
      },
      "source": [
        "modelR.compile(\n",
        "    loss='sparse_categorical_crossentropy',\n",
        "    optimizer=tf.keras.optimizers.Adam(0.001),\n",
        "    metrics=['accuracy'],\n",
        ")\n",
        "modelR.fit(dtrain,\n",
        "    epochs=50,\n",
        "    validation_data=dtest,) # TODO: Your code here"
      ],
      "execution_count": 15,
      "outputs": [
        {
          "output_type": "stream",
          "text": [
            "Epoch 1/50\n",
            "469/469 [==============================] - 1s 3ms/step - loss: 0.4531 - accuracy: 0.8761 - val_loss: 0.2463 - val_accuracy: 0.9315\n",
            "Epoch 2/50\n",
            "469/469 [==============================] - 1s 3ms/step - loss: 0.2215 - accuracy: 0.9377 - val_loss: 0.1872 - val_accuracy: 0.9463\n",
            "Epoch 3/50\n",
            "469/469 [==============================] - 1s 3ms/step - loss: 0.1743 - accuracy: 0.9500 - val_loss: 0.1595 - val_accuracy: 0.9528\n",
            "Epoch 4/50\n",
            "469/469 [==============================] - 1s 3ms/step - loss: 0.1441 - accuracy: 0.9584 - val_loss: 0.1411 - val_accuracy: 0.9573\n",
            "Epoch 5/50\n",
            "469/469 [==============================] - 1s 3ms/step - loss: 0.1228 - accuracy: 0.9642 - val_loss: 0.1259 - val_accuracy: 0.9627\n",
            "Epoch 6/50\n",
            "469/469 [==============================] - 1s 3ms/step - loss: 0.1074 - accuracy: 0.9687 - val_loss: 0.1195 - val_accuracy: 0.9638\n",
            "Epoch 7/50\n",
            "469/469 [==============================] - 1s 3ms/step - loss: 0.0959 - accuracy: 0.9717 - val_loss: 0.1093 - val_accuracy: 0.9662\n",
            "Epoch 8/50\n",
            "469/469 [==============================] - 1s 3ms/step - loss: 0.0853 - accuracy: 0.9749 - val_loss: 0.1049 - val_accuracy: 0.9680\n",
            "Epoch 9/50\n",
            "469/469 [==============================] - 1s 3ms/step - loss: 0.0774 - accuracy: 0.9768 - val_loss: 0.1044 - val_accuracy: 0.9670\n",
            "Epoch 10/50\n",
            "469/469 [==============================] - 1s 3ms/step - loss: 0.0703 - accuracy: 0.9792 - val_loss: 0.0990 - val_accuracy: 0.9710\n",
            "Epoch 11/50\n",
            "469/469 [==============================] - 1s 3ms/step - loss: 0.0642 - accuracy: 0.9804 - val_loss: 0.0943 - val_accuracy: 0.9715\n",
            "Epoch 12/50\n",
            "469/469 [==============================] - 1s 3ms/step - loss: 0.0591 - accuracy: 0.9822 - val_loss: 0.0956 - val_accuracy: 0.9700\n",
            "Epoch 13/50\n",
            "469/469 [==============================] - 1s 3ms/step - loss: 0.0537 - accuracy: 0.9839 - val_loss: 0.0922 - val_accuracy: 0.9723\n",
            "Epoch 14/50\n",
            "469/469 [==============================] - 1s 3ms/step - loss: 0.0492 - accuracy: 0.9859 - val_loss: 0.0969 - val_accuracy: 0.9692\n",
            "Epoch 15/50\n",
            "469/469 [==============================] - 1s 3ms/step - loss: 0.0457 - accuracy: 0.9867 - val_loss: 0.0903 - val_accuracy: 0.9732\n",
            "Epoch 16/50\n",
            "469/469 [==============================] - 1s 3ms/step - loss: 0.0421 - accuracy: 0.9880 - val_loss: 0.0885 - val_accuracy: 0.9729\n",
            "Epoch 17/50\n",
            "469/469 [==============================] - 1s 3ms/step - loss: 0.0394 - accuracy: 0.9884 - val_loss: 0.0906 - val_accuracy: 0.9745\n",
            "Epoch 18/50\n",
            "469/469 [==============================] - 1s 3ms/step - loss: 0.0362 - accuracy: 0.9896 - val_loss: 0.0884 - val_accuracy: 0.9742\n",
            "Epoch 19/50\n",
            "469/469 [==============================] - 1s 3ms/step - loss: 0.0336 - accuracy: 0.9909 - val_loss: 0.0930 - val_accuracy: 0.9730\n",
            "Epoch 20/50\n",
            "469/469 [==============================] - 1s 3ms/step - loss: 0.0314 - accuracy: 0.9916 - val_loss: 0.0891 - val_accuracy: 0.9732\n",
            "Epoch 21/50\n",
            "469/469 [==============================] - 1s 3ms/step - loss: 0.0291 - accuracy: 0.9922 - val_loss: 0.0896 - val_accuracy: 0.9744\n",
            "Epoch 22/50\n",
            "469/469 [==============================] - 1s 3ms/step - loss: 0.0266 - accuracy: 0.9928 - val_loss: 0.0950 - val_accuracy: 0.9736\n",
            "Epoch 23/50\n",
            "469/469 [==============================] - 1s 3ms/step - loss: 0.0254 - accuracy: 0.9928 - val_loss: 0.0947 - val_accuracy: 0.9733\n",
            "Epoch 24/50\n",
            "469/469 [==============================] - 1s 3ms/step - loss: 0.0231 - accuracy: 0.9940 - val_loss: 0.0953 - val_accuracy: 0.9728\n",
            "Epoch 25/50\n",
            "469/469 [==============================] - 1s 3ms/step - loss: 0.0214 - accuracy: 0.9945 - val_loss: 0.0985 - val_accuracy: 0.9723\n",
            "Epoch 26/50\n",
            "469/469 [==============================] - 1s 3ms/step - loss: 0.0206 - accuracy: 0.9943 - val_loss: 0.1050 - val_accuracy: 0.9713\n",
            "Epoch 27/50\n",
            "469/469 [==============================] - 1s 3ms/step - loss: 0.0188 - accuracy: 0.9954 - val_loss: 0.0961 - val_accuracy: 0.9745\n",
            "Epoch 28/50\n",
            "469/469 [==============================] - 1s 3ms/step - loss: 0.0166 - accuracy: 0.9960 - val_loss: 0.0989 - val_accuracy: 0.9737\n",
            "Epoch 29/50\n",
            "469/469 [==============================] - 1s 3ms/step - loss: 0.0156 - accuracy: 0.9966 - val_loss: 0.0995 - val_accuracy: 0.9741\n",
            "Epoch 30/50\n",
            "469/469 [==============================] - 1s 3ms/step - loss: 0.0141 - accuracy: 0.9969 - val_loss: 0.0974 - val_accuracy: 0.9744\n",
            "Epoch 31/50\n",
            "469/469 [==============================] - 1s 3ms/step - loss: 0.0134 - accuracy: 0.9970 - val_loss: 0.1014 - val_accuracy: 0.9737\n",
            "Epoch 32/50\n",
            "469/469 [==============================] - 1s 3ms/step - loss: 0.0121 - accuracy: 0.9976 - val_loss: 0.1005 - val_accuracy: 0.9743\n",
            "Epoch 33/50\n",
            "469/469 [==============================] - 1s 3ms/step - loss: 0.0122 - accuracy: 0.9976 - val_loss: 0.1051 - val_accuracy: 0.9726\n",
            "Epoch 34/50\n",
            "469/469 [==============================] - 1s 3ms/step - loss: 0.0110 - accuracy: 0.9977 - val_loss: 0.1067 - val_accuracy: 0.9740\n",
            "Epoch 35/50\n",
            "469/469 [==============================] - 1s 3ms/step - loss: 0.0099 - accuracy: 0.9984 - val_loss: 0.1098 - val_accuracy: 0.9745\n",
            "Epoch 36/50\n",
            "469/469 [==============================] - 1s 3ms/step - loss: 0.0090 - accuracy: 0.9984 - val_loss: 0.1086 - val_accuracy: 0.9740\n",
            "Epoch 37/50\n",
            "469/469 [==============================] - 1s 3ms/step - loss: 0.0088 - accuracy: 0.9985 - val_loss: 0.1161 - val_accuracy: 0.9717\n",
            "Epoch 38/50\n",
            "469/469 [==============================] - 1s 3ms/step - loss: 0.0081 - accuracy: 0.9987 - val_loss: 0.1109 - val_accuracy: 0.9745\n",
            "Epoch 39/50\n",
            "469/469 [==============================] - 1s 3ms/step - loss: 0.0072 - accuracy: 0.9989 - val_loss: 0.1204 - val_accuracy: 0.9727\n",
            "Epoch 40/50\n",
            "469/469 [==============================] - 1s 3ms/step - loss: 0.0068 - accuracy: 0.9990 - val_loss: 0.1146 - val_accuracy: 0.9740\n",
            "Epoch 41/50\n",
            "469/469 [==============================] - 1s 3ms/step - loss: 0.0061 - accuracy: 0.9991 - val_loss: 0.1215 - val_accuracy: 0.9728\n",
            "Epoch 42/50\n",
            "469/469 [==============================] - 1s 3ms/step - loss: 0.0066 - accuracy: 0.9989 - val_loss: 0.1198 - val_accuracy: 0.9736\n",
            "Epoch 43/50\n",
            "469/469 [==============================] - 1s 3ms/step - loss: 0.0056 - accuracy: 0.9993 - val_loss: 0.1226 - val_accuracy: 0.9741\n",
            "Epoch 44/50\n",
            "469/469 [==============================] - 1s 3ms/step - loss: 0.0056 - accuracy: 0.9991 - val_loss: 0.1213 - val_accuracy: 0.9731\n",
            "Epoch 45/50\n",
            "469/469 [==============================] - 1s 3ms/step - loss: 0.0043 - accuracy: 0.9996 - val_loss: 0.1225 - val_accuracy: 0.9743\n",
            "Epoch 46/50\n",
            "469/469 [==============================] - 1s 3ms/step - loss: 0.0045 - accuracy: 0.9995 - val_loss: 0.1284 - val_accuracy: 0.9733\n",
            "Epoch 47/50\n",
            "469/469 [==============================] - 1s 3ms/step - loss: 0.0042 - accuracy: 0.9995 - val_loss: 0.1218 - val_accuracy: 0.9747\n",
            "Epoch 48/50\n",
            "469/469 [==============================] - 1s 3ms/step - loss: 0.0035 - accuracy: 0.9997 - val_loss: 0.1322 - val_accuracy: 0.9733\n",
            "Epoch 49/50\n",
            "469/469 [==============================] - 1s 3ms/step - loss: 0.0064 - accuracy: 0.9986 - val_loss: 0.1284 - val_accuracy: 0.9737\n",
            "Epoch 50/50\n",
            "469/469 [==============================] - 1s 3ms/step - loss: 0.0034 - accuracy: 0.9997 - val_loss: 0.1315 - val_accuracy: 0.9737\n"
          ],
          "name": "stdout"
        },
        {
          "output_type": "execute_result",
          "data": {
            "text/plain": [
              "<tensorflow.python.keras.callbacks.History at 0x7fc334527c50>"
            ]
          },
          "metadata": {
            "tags": []
          },
          "execution_count": 15
        }
      ]
    },
    {
      "cell_type": "code",
      "metadata": {
        "id": "FQsMBwPEJGKF"
      },
      "source": [
        "###FINAL RESULTS OF PELU:  train_accuracy: 0.9985 - val_accuracy: 0.9714\n",
        "###FINAL RESULTS OF RELU:  train_accuracy: 0.9997 - val_accuracy: 0.9737"
      ],
      "execution_count": 16,
      "outputs": []
    },
    {
      "cell_type": "markdown",
      "metadata": {
        "id": "nkb3cj9r7uUH"
      },
      "source": [
        "### Optional: understanding saving/loading of models"
      ]
    },
    {
      "cell_type": "markdown",
      "metadata": {
        "id": "pEjaJQT06jh9"
      },
      "source": [
        "TensorFlow has several options for saving or loading objects from the disk:\n",
        "\n",
        "1. [Save and load Keras models](https://www.tensorflow.org/guide/keras/save_and_serialize/)\n",
        "\n",
        "In many cases, custom classes require the implementation of a `get_config` / `from_config` functions to define the serialization behaviour.\n",
        "\n",
        "**Exercise 4 (optional)**: implement the `get_config` method and test your implementation as below (taken from the guide on saving and loading models)."
      ]
    },
    {
      "cell_type": "code",
      "metadata": {
        "id": "DzyPwvvJMoAT"
      },
      "source": [
        "###TRIAL FOR 4TH QUESTION, GETS ERROR\n",
        "config = model.get_config()\n",
        "print(config)\n",
        "custom_objects = {\"PELU\": PELU}\n",
        "with keras.utils.custom_object_scope(custom_objects):\n",
        "    new_model = keras.Model.from_config(config)\n"
      ],
      "execution_count": null,
      "outputs": []
    },
    {
      "cell_type": "code",
      "metadata": {
        "id": "uRIJFcGbMzex"
      },
      "source": [
        "print(\"Original model:\", model)\n",
        "print(\"Loaded model:\", reloaded_model) "
      ],
      "execution_count": null,
      "outputs": []
    },
    {
      "cell_type": "code",
      "metadata": {
        "id": "voxx7kntvM0W"
      },
      "source": [
        "model.save('/pelu_model')\n",
        "del PELU # This is needed to remove any reference to PELU from memory\n",
        "reloaded_model = tf.keras.models.load_model('/pelu_model')"
      ],
      "execution_count": null,
      "outputs": []
    },
    {
      "cell_type": "code",
      "metadata": {
        "id": "838PN8xN0rIW"
      },
      "source": [
        "print(\"Original model:\", model)\n",
        "print(\"Loaded model:\", reloaded_model) # Observe that the object has been dynamically recreated in absence of the configuration options"
      ],
      "execution_count": null,
      "outputs": []
    },
    {
      "cell_type": "markdown",
      "metadata": {
        "id": "Rl9dZ3HambSz"
      },
      "source": [
        "### References\n",
        "\n",
        "[1] Clevert, D.A., Unterthiner, T. and Hochreiter, S., 2015. [Fast and accurate deep network learning by exponential linear units (ELUs)](https://arxiv.org/abs/1511.07289). arXiv preprint arXiv:1511.07289.\n",
        "\n",
        "[2] Trottier, L., Gigu, P. and Chaib-draa, B., 2017. [Parametric exponential linear unit for deep convolutional neural networks](https://arxiv.org/abs/1605.09332). In 2017 16th IEEE International Conference on Machine Learning and Applications (ICMLA) (pp. 207-214). IEEE."
      ]
    }
  ]
}